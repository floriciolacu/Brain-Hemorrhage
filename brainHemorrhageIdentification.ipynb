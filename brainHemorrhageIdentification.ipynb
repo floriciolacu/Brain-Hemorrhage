{
  "nbformat": 4,
  "nbformat_minor": 0,
  "metadata": {
    "colab": {
      "name": "BrainHemorrhageIdentification.ipynb",
      "provenance": [],
      "collapsed_sections": [],
      "machine_shape": "hm"
    },
    "kernelspec": {
      "name": "python3",
      "display_name": "Python 3"
    },
    "accelerator": "GPU"
  },
  "cells": [
    {
      "cell_type": "markdown",
      "metadata": {
        "id": "OJXwpqEekV2v",
        "colab_type": "text"
      },
      "source": [
        "# Brain Hemorrhage Identification"
      ]
    },
    {
      "cell_type": "markdown",
      "metadata": {
        "id": "jOuuMCjdnKGJ",
        "colab_type": "text"
      },
      "source": [
        "Conectarea la Google Drive pentru a prelua datele de acolo"
      ]
    },
    {
      "cell_type": "code",
      "metadata": {
        "colab_type": "code",
        "outputId": "a2c00744-e55f-4b64-deda-7026cfb04362",
        "id": "DSpKzWlox5ON",
        "colab": {
          "base_uri": "https://localhost:8080/",
          "height": 121
        }
      },
      "source": [
        "from google.colab import drive\n",
        "drive.mount('/content/drive')"
      ],
      "execution_count": 0,
      "outputs": [
        {
          "output_type": "stream",
          "text": [
            "Go to this URL in a browser: https://accounts.google.com/o/oauth2/auth?client_id=947318989803-6bn6qk8qdgf4n4g3pfee6491hc0brc4i.apps.googleusercontent.com&redirect_uri=urn%3aietf%3awg%3aoauth%3a2.0%3aoob&response_type=code&scope=email%20https%3a%2f%2fwww.googleapis.com%2fauth%2fdocs.test%20https%3a%2f%2fwww.googleapis.com%2fauth%2fdrive%20https%3a%2f%2fwww.googleapis.com%2fauth%2fdrive.photos.readonly%20https%3a%2f%2fwww.googleapis.com%2fauth%2fpeopleapi.readonly\n",
            "\n",
            "Enter your authorization code:\n",
            "··········\n",
            "Mounted at /content/drive\n"
          ],
          "name": "stdout"
        }
      ]
    },
    {
      "cell_type": "code",
      "metadata": {
        "id": "rqU1lLZJyjHJ",
        "colab_type": "code",
        "colab": {}
      },
      "source": [
        "import cv2\n",
        "import numpy as np\n",
        "import tensorflow as tf"
      ],
      "execution_count": 0,
      "outputs": []
    },
    {
      "cell_type": "markdown",
      "metadata": {
        "id": "xD6mWIvGnS_8",
        "colab_type": "text"
      },
      "source": [
        "Citirea datelor (imaginilor si etichetelor pentru setul de antrenare). \n",
        "Schimbarea dimensiunii vectorului de etichete"
      ]
    },
    {
      "cell_type": "code",
      "metadata": {
        "id": "uN0nU-qO0E0j",
        "colab_type": "code",
        "outputId": "460aa1d3-3a5f-48a3-f5fa-7e8db6c0f9b1",
        "colab": {
          "base_uri": "https://localhost:8080/",
          "height": 34
        }
      },
      "source": [
        "from keras.utils import to_categorical\n",
        "\n",
        "images_path = \"/content/drive/My Drive/DL/data/data/{}.png\"\n",
        "train_labels_path = \"/content/drive/My Drive/DL/train_labels.txt\"\n",
        "\n",
        "train_data = open(train_labels_path)\n",
        "train_data.readline()\n",
        "\n",
        "features = []\n",
        "labels = []\n",
        "\n",
        "for dt in train_data:\n",
        "  dt = dt[:-1].split(\",\")\n",
        "  id = dt[0]\n",
        "  label = int(dt[1])\n",
        "  labels.append(label)\n",
        "  img = cv2.imread(images_path.format(id))\n",
        "  features.append(img)\n",
        "\n",
        "features = np.array(features, dtype = np.float32)\n",
        "labels = np.array(labels, dtype = np.float32)\n",
        "\n",
        "labels = to_categorical(labels)\n",
        "\n",
        "print(\"Gata\")"
      ],
      "execution_count": 0,
      "outputs": [
        {
          "output_type": "stream",
          "text": [
            "Gata\n"
          ],
          "name": "stdout"
        }
      ]
    },
    {
      "cell_type": "markdown",
      "metadata": {
        "id": "N7hFHxplolFz",
        "colab_type": "text"
      },
      "source": [
        "Arhitectura modelului si optimizatorul. Antrenarea modelului"
      ]
    },
    {
      "cell_type": "code",
      "metadata": {
        "id": "ZPM1JLYHM5To",
        "colab_type": "code",
        "outputId": "d2547c13-9806-4699-8e83-879e64ff5724",
        "colab": {
          "base_uri": "https://localhost:8080/",
          "height": 1000
        }
      },
      "source": [
        "from keras import backend as K\n",
        "from keras.models import Sequential\n",
        "from keras.layers import Dense, Flatten, Dropout, Conv2D, MaxPooling2D, BatchNormalization\n",
        "from keras.optimizers import Adam\n",
        "\n",
        "model = Sequential()\n",
        "\n",
        "model.add(Conv2D(128, (7, 7), activation = 'relu', input_shape = tuple(features.shape[1:])))\n",
        "model.add(BatchNormalization())\n",
        "model.add(MaxPooling2D())\n",
        "\n",
        "model.add(Conv2D(64, (6, 6), activation = 'relu'))\n",
        "model.add(BatchNormalization())\n",
        "model.add(MaxPooling2D())\n",
        "\n",
        "model.add(Conv2D(32, (5, 5), activation = 'relu'))\n",
        "model.add(BatchNormalization())\n",
        "model.add(MaxPooling2D())\n",
        "\n",
        "model.add(Conv2D(16, (4, 4), activation = 'relu'))\n",
        "model.add(BatchNormalization())\n",
        "model.add(MaxPooling2D())\n",
        "\n",
        "model.add(Flatten())\n",
        "model.add(Dense(1024, activation = 'relu'))\n",
        "model.add(Dense(512, activation = 'relu'))\n",
        "model.add(Dense(256, activation = 'relu'))\n",
        "model.add(Dense(128, activation = 'relu'))\n",
        "model.add(Dense(2, activation = 'softmax'))\n",
        "\n",
        "adam = Adam(lr = 1e-5)\n",
        "model.compile(loss = 'binary_crossentropy', optimizer = adam, metrics = ['accuracy'])\n",
        "\n",
        "fit = model.fit(features, labels, epochs = 15, batch_size = 64)"
      ],
      "execution_count": 0,
      "outputs": [
        {
          "output_type": "stream",
          "text": [
            "WARNING:tensorflow:From /usr/local/lib/python3.6/dist-packages/keras/backend/tensorflow_backend.py:66: The name tf.get_default_graph is deprecated. Please use tf.compat.v1.get_default_graph instead.\n",
            "\n",
            "WARNING:tensorflow:From /usr/local/lib/python3.6/dist-packages/keras/backend/tensorflow_backend.py:541: The name tf.placeholder is deprecated. Please use tf.compat.v1.placeholder instead.\n",
            "\n",
            "WARNING:tensorflow:From /usr/local/lib/python3.6/dist-packages/keras/backend/tensorflow_backend.py:4432: The name tf.random_uniform is deprecated. Please use tf.random.uniform instead.\n",
            "\n",
            "WARNING:tensorflow:From /usr/local/lib/python3.6/dist-packages/keras/backend/tensorflow_backend.py:190: The name tf.get_default_session is deprecated. Please use tf.compat.v1.get_default_session instead.\n",
            "\n",
            "WARNING:tensorflow:From /usr/local/lib/python3.6/dist-packages/keras/backend/tensorflow_backend.py:197: The name tf.ConfigProto is deprecated. Please use tf.compat.v1.ConfigProto instead.\n",
            "\n",
            "WARNING:tensorflow:From /usr/local/lib/python3.6/dist-packages/keras/backend/tensorflow_backend.py:203: The name tf.Session is deprecated. Please use tf.compat.v1.Session instead.\n",
            "\n",
            "WARNING:tensorflow:From /usr/local/lib/python3.6/dist-packages/keras/backend/tensorflow_backend.py:207: The name tf.global_variables is deprecated. Please use tf.compat.v1.global_variables instead.\n",
            "\n",
            "WARNING:tensorflow:From /usr/local/lib/python3.6/dist-packages/keras/backend/tensorflow_backend.py:216: The name tf.is_variable_initialized is deprecated. Please use tf.compat.v1.is_variable_initialized instead.\n",
            "\n",
            "WARNING:tensorflow:From /usr/local/lib/python3.6/dist-packages/keras/backend/tensorflow_backend.py:223: The name tf.variables_initializer is deprecated. Please use tf.compat.v1.variables_initializer instead.\n",
            "\n",
            "WARNING:tensorflow:From /usr/local/lib/python3.6/dist-packages/keras/backend/tensorflow_backend.py:2041: The name tf.nn.fused_batch_norm is deprecated. Please use tf.compat.v1.nn.fused_batch_norm instead.\n",
            "\n",
            "WARNING:tensorflow:From /usr/local/lib/python3.6/dist-packages/keras/backend/tensorflow_backend.py:148: The name tf.placeholder_with_default is deprecated. Please use tf.compat.v1.placeholder_with_default instead.\n",
            "\n",
            "WARNING:tensorflow:From /usr/local/lib/python3.6/dist-packages/keras/backend/tensorflow_backend.py:4267: The name tf.nn.max_pool is deprecated. Please use tf.nn.max_pool2d instead.\n",
            "\n",
            "WARNING:tensorflow:From /usr/local/lib/python3.6/dist-packages/keras/optimizers.py:793: The name tf.train.Optimizer is deprecated. Please use tf.compat.v1.train.Optimizer instead.\n",
            "\n",
            "WARNING:tensorflow:From /usr/local/lib/python3.6/dist-packages/keras/backend/tensorflow_backend.py:3657: The name tf.log is deprecated. Please use tf.math.log instead.\n",
            "\n",
            "WARNING:tensorflow:From /usr/local/lib/python3.6/dist-packages/tensorflow_core/python/ops/nn_impl.py:183: where (from tensorflow.python.ops.array_ops) is deprecated and will be removed in a future version.\n",
            "Instructions for updating:\n",
            "Use tf.where in 2.0, which has the same broadcast rule as np.where\n",
            "WARNING:tensorflow:From /usr/local/lib/python3.6/dist-packages/keras/backend/tensorflow_backend.py:1033: The name tf.assign_add is deprecated. Please use tf.compat.v1.assign_add instead.\n",
            "\n",
            "WARNING:tensorflow:From /usr/local/lib/python3.6/dist-packages/keras/backend/tensorflow_backend.py:1020: The name tf.assign is deprecated. Please use tf.compat.v1.assign instead.\n",
            "\n",
            "Epoch 1/15\n",
            "17000/17000 [==============================] - 69s 4ms/step - loss: 0.3744 - acc: 0.8529\n",
            "Epoch 2/15\n",
            "17000/17000 [==============================] - 60s 4ms/step - loss: 0.3169 - acc: 0.8668\n",
            "Epoch 3/15\n",
            "17000/17000 [==============================] - 60s 4ms/step - loss: 0.2858 - acc: 0.8771\n",
            "Epoch 4/15\n",
            "17000/17000 [==============================] - 60s 4ms/step - loss: 0.2594 - acc: 0.8899\n",
            "Epoch 5/15\n",
            "17000/17000 [==============================] - 59s 3ms/step - loss: 0.2370 - acc: 0.9025\n",
            "Epoch 6/15\n",
            "17000/17000 [==============================] - 59s 3ms/step - loss: 0.2096 - acc: 0.9173\n",
            "Epoch 7/15\n",
            "17000/17000 [==============================] - 59s 3ms/step - loss: 0.1864 - acc: 0.9290\n",
            "Epoch 8/15\n",
            "17000/17000 [==============================] - 59s 3ms/step - loss: 0.1615 - acc: 0.9428\n",
            "Epoch 9/15\n",
            "17000/17000 [==============================] - 59s 3ms/step - loss: 0.1373 - acc: 0.9531\n",
            "Epoch 10/15\n",
            "17000/17000 [==============================] - 59s 3ms/step - loss: 0.1172 - acc: 0.9623\n",
            "Epoch 11/15\n",
            "17000/17000 [==============================] - 59s 3ms/step - loss: 0.0958 - acc: 0.9724\n",
            "Epoch 12/15\n",
            "17000/17000 [==============================] - 59s 3ms/step - loss: 0.0757 - acc: 0.9812\n",
            "Epoch 13/15\n",
            "17000/17000 [==============================] - 59s 3ms/step - loss: 0.0586 - acc: 0.9868\n",
            "Epoch 14/15\n",
            "17000/17000 [==============================] - 59s 3ms/step - loss: 0.0454 - acc: 0.9924\n",
            "Epoch 15/15\n",
            "17000/17000 [==============================] - 59s 3ms/step - loss: 0.0334 - acc: 0.9956\n"
          ],
          "name": "stdout"
        }
      ]
    },
    {
      "cell_type": "markdown",
      "metadata": {
        "id": "bRaYGrjhosEt",
        "colab_type": "text"
      },
      "source": [
        "Prezicerea etichetelor pentru imaginile din setul de test (5.149 imagini: de la 17.001 pana la 22.149) si scrierea lor in fisier"
      ]
    },
    {
      "cell_type": "code",
      "metadata": {
        "id": "q6y8qjcqQiCR",
        "colab_type": "code",
        "colab": {}
      },
      "source": [
        "f = open(\"submissions.txt\", \"w\")\n",
        "\n",
        "f.write(\"id,class\\n\")\n",
        "\n",
        "for i in range(17001, 22150):\n",
        "  id = \"0\" + str(i)\n",
        "  img_pred = cv2.imread(images_path.format(id))\n",
        "  pred = model.predict(np.array([img_pred], dtype = np.float32)) \n",
        "  pred = pred[0]\n",
        "  if pred[0] > pred[1]:\n",
        "    pred = 0\n",
        "  else:\n",
        "    pred = 1\n",
        "  f.write(str(id) + \",\" + str(pred) +\"\\n\")\n",
        "\n",
        "f.close()"
      ],
      "execution_count": 0,
      "outputs": []
    },
    {
      "cell_type": "markdown",
      "metadata": {
        "id": "HRcaPvCOnzIk",
        "colab_type": "text"
      },
      "source": [
        "### 3-Fold Cross Validation cu confusion matrix"
      ]
    },
    {
      "cell_type": "markdown",
      "metadata": {
        "id": "3yzdFy_LLyA2",
        "colab_type": "text"
      },
      "source": [
        "Citirea datelor (la fel ca mai sus)"
      ]
    },
    {
      "cell_type": "code",
      "metadata": {
        "id": "CSgqZVZokW4V",
        "colab_type": "code",
        "outputId": "b2cd3c26-65d0-4e32-ea39-1941c99bc899",
        "colab": {
          "base_uri": "https://localhost:8080/",
          "height": 34
        }
      },
      "source": [
        "from keras.utils import to_categorical\n",
        "\n",
        "images_path = \"/content/drive/My Drive/DL/data/data/{}.png\"\n",
        "train_labels_path = \"/content/drive/My Drive/DL/train_labels.txt\"\n",
        "\n",
        "train_data = open(train_labels_path)\n",
        "train_data.readline()\n",
        "\n",
        "features = []\n",
        "labels = []\n",
        "\n",
        "for dt in train_data:\n",
        "  dt = dt[:-1].split(\",\")\n",
        "  id = dt[0]\n",
        "  label = int(dt[1])\n",
        "  labels.append(label)\n",
        "  img = cv2.imread(images_path.format(id))\n",
        "  features.append(img)\n",
        "\n",
        "features = np.array(features, dtype = np.float32)\n",
        "labels = np.array(labels, dtype = np.float32)\n",
        "\n",
        "labels = to_categorical(labels)\n",
        "\n",
        "print(\"Gata\")"
      ],
      "execution_count": 0,
      "outputs": [
        {
          "output_type": "stream",
          "text": [
            "Gata\n"
          ],
          "name": "stdout"
        }
      ]
    },
    {
      "cell_type": "markdown",
      "metadata": {
        "id": "AKcAMuXeL5-f",
        "colab_type": "text"
      },
      "source": [
        "Arhitectura modelului si optimizatorul (la fel ca mai sus)"
      ]
    },
    {
      "cell_type": "code",
      "metadata": {
        "id": "U_MmxkIQkhyq",
        "colab_type": "code",
        "colab": {}
      },
      "source": [
        "from keras import backend as K\n",
        "from keras.models import Sequential\n",
        "from keras.layers import Dense, Flatten, Dropout, Conv2D, MaxPooling2D, BatchNormalization\n",
        "from keras.optimizers import Adam, SGD\n",
        "\n",
        "def create_model(data_shape):\n",
        "  K.clear_session()\n",
        "  model = Sequential()\n",
        "\n",
        "  model.add(Conv2D(128, (7, 7), activation = 'relu', input_shape = data_shape))\n",
        "  model.add(BatchNormalization())\n",
        "  model.add(MaxPooling2D())\n",
        "\n",
        "  model.add(Conv2D(64, (6, 6), activation = 'relu'))\n",
        "  model.add(BatchNormalization())\n",
        "  model.add(MaxPooling2D())\n",
        "\n",
        "  model.add(Conv2D(32, (5, 5), activation = 'relu'))\n",
        "  model.add(BatchNormalization())\n",
        "  model.add(MaxPooling2D())\n",
        "\n",
        "  model.add(Conv2D(16, (4, 4), activation = 'relu'))\n",
        "  model.add(BatchNormalization())\n",
        "  model.add(MaxPooling2D())\n",
        "\n",
        "  model.add(Flatten())\n",
        "  model.add(Dense(1024, activation = 'relu'))\n",
        "  model.add(Dense(512, activation = 'relu'))\n",
        "  model.add(Dense(256, activation = 'relu'))\n",
        "  model.add(Dense(128, activation = 'relu'))\n",
        "  model.add(Dense(2, activation = 'softmax'))\n",
        "\n",
        "  adam = Adam(lr = 1e-5)\n",
        "  model.compile(loss = 'binary_crossentropy', optimizer = adam, metrics = ['accuracy'])\n",
        "\n",
        "  return model"
      ],
      "execution_count": 0,
      "outputs": []
    },
    {
      "cell_type": "markdown",
      "metadata": {
        "id": "8mIYJqJMMCbp",
        "colab_type": "text"
      },
      "source": [
        "Impartirea setului de date random in 3, crearea si antrenarea modelului pe fiecare din parti, calcularea pierderii si acuratetii si crearea matricei de confuzie"
      ]
    },
    {
      "cell_type": "code",
      "metadata": {
        "id": "N08_-Ryzdmsj",
        "colab_type": "code",
        "outputId": "ad4fa6e6-deb8-4b5c-c7c3-19135767513e",
        "colab": {
          "base_uri": "https://localhost:8080/",
          "height": 1000
        }
      },
      "source": [
        "from sklearn.model_selection import KFold\n",
        "from sklearn.metrics import classification_report, confusion_matrix\n",
        "import seaborn as sn\n",
        "import matplotlib.pyplot as plt\n",
        "\n",
        "loss_acc = []\n",
        "\n",
        "kf = KFold(n_splits =3, random_state=None, shuffle=True)\n",
        "kf.get_n_splits(features)\n",
        "\n",
        "for train_index, test_index in kf.split(features):\n",
        "  model = create_model(tuple(features.shape[1:]))\n",
        "  fit = model.fit(features[train_index], labels[train_index], epochs = 15, batch_size = 64)\n",
        "  ev = model.evaluate(features[test_index], labels[test_index])\n",
        "  loss_acc.append(ev)\n",
        "  \n",
        "  y_pred = model.predict(features[test_index])\n",
        "\n",
        "  y_pred = np.argmax(y_pred, axis=1)\n",
        "  y_exp = np.argmax(labels[test_index], axis=1)\n",
        "\n",
        "  cm = confusion_matrix(y_exp, y_pred)\n",
        "  \n",
        "  sn.heatmap(cm, annot=True)\n",
        "  plt.show()\n",
        "\n",
        "print(loss_acc)"
      ],
      "execution_count": 0,
      "outputs": [
        {
          "output_type": "stream",
          "text": [
            "Epoch 1/15\n",
            "11333/11333 [==============================] - 41s 4ms/step - loss: 0.4095 - acc: 0.8422\n",
            "Epoch 2/15\n",
            "11333/11333 [==============================] - 40s 3ms/step - loss: 0.3308 - acc: 0.8601\n",
            "Epoch 3/15\n",
            "11333/11333 [==============================] - 39s 3ms/step - loss: 0.2946 - acc: 0.8710\n",
            "Epoch 4/15\n",
            "11333/11333 [==============================] - 39s 3ms/step - loss: 0.2647 - acc: 0.8858\n",
            "Epoch 5/15\n",
            "11333/11333 [==============================] - 39s 3ms/step - loss: 0.2387 - acc: 0.8987\n",
            "Epoch 6/15\n",
            "11333/11333 [==============================] - 39s 3ms/step - loss: 0.2182 - acc: 0.9087\n",
            "Epoch 7/15\n",
            "11333/11333 [==============================] - 39s 3ms/step - loss: 0.1923 - acc: 0.9235\n",
            "Epoch 8/15\n",
            "11333/11333 [==============================] - 39s 3ms/step - loss: 0.1696 - acc: 0.9366\n",
            "Epoch 9/15\n",
            "11333/11333 [==============================] - 39s 3ms/step - loss: 0.1448 - acc: 0.9509\n",
            "Epoch 10/15\n",
            "11333/11333 [==============================] - 39s 3ms/step - loss: 0.1271 - acc: 0.9605\n",
            "Epoch 11/15\n",
            "11333/11333 [==============================] - 39s 3ms/step - loss: 0.1084 - acc: 0.9697\n",
            "Epoch 12/15\n",
            "11333/11333 [==============================] - 39s 3ms/step - loss: 0.0853 - acc: 0.9831\n",
            "Epoch 13/15\n",
            "11333/11333 [==============================] - 39s 3ms/step - loss: 0.0710 - acc: 0.9854\n",
            "Epoch 14/15\n",
            "11333/11333 [==============================] - 39s 3ms/step - loss: 0.0596 - acc: 0.9897\n",
            "Epoch 15/15\n",
            "11333/11333 [==============================] - 39s 3ms/step - loss: 0.0446 - acc: 0.9949\n",
            "5667/5667 [==============================] - 9s 2ms/step\n"
          ],
          "name": "stdout"
        },
        {
          "output_type": "display_data",
          "data": {
            "image/png": "[encoded data removed]",
            "text/plain": [
              "<Figure size 432x288 with 2 Axes>"
            ]
          },
          "metadata": {
            "tags": []
          }
        },
        {
          "output_type": "stream",
          "text": [
            "Epoch 1/15\n",
            "11333/11333 [==============================] - 40s 4ms/step - loss: 0.4807 - acc: 0.7999\n",
            "Epoch 2/15\n",
            "11333/11333 [==============================] - 39s 3ms/step - loss: 0.3435 - acc: 0.8593\n",
            "Epoch 3/15\n",
            "11333/11333 [==============================] - 39s 3ms/step - loss: 0.3064 - acc: 0.8717\n",
            "Epoch 4/15\n",
            "11333/11333 [==============================] - 39s 3ms/step - loss: 0.2777 - acc: 0.8830\n",
            "Epoch 5/15\n",
            "11333/11333 [==============================] - 39s 3ms/step - loss: 0.2522 - acc: 0.8961\n",
            "Epoch 6/15\n",
            "11333/11333 [==============================] - 39s 3ms/step - loss: 0.2260 - acc: 0.9096\n",
            "Epoch 7/15\n",
            "11333/11333 [==============================] - 39s 3ms/step - loss: 0.2019 - acc: 0.9231\n",
            "Epoch 8/15\n",
            "11333/11333 [==============================] - 39s 3ms/step - loss: 0.1794 - acc: 0.9337\n",
            "Epoch 9/15\n",
            "11333/11333 [==============================] - 39s 3ms/step - loss: 0.1569 - acc: 0.9449\n",
            "Epoch 10/15\n",
            "11333/11333 [==============================] - 39s 3ms/step - loss: 0.1310 - acc: 0.9585\n",
            "Epoch 11/15\n",
            "11333/11333 [==============================] - 39s 3ms/step - loss: 0.1125 - acc: 0.9677\n",
            "Epoch 12/15\n",
            "11333/11333 [==============================] - 39s 3ms/step - loss: 0.0961 - acc: 0.9736\n",
            "Epoch 13/15\n",
            "11333/11333 [==============================] - 39s 3ms/step - loss: 0.0754 - acc: 0.9846\n",
            "Epoch 14/15\n",
            "11333/11333 [==============================] - 39s 3ms/step - loss: 0.0621 - acc: 0.9891\n",
            "Epoch 15/15\n",
            "11333/11333 [==============================] - 39s 3ms/step - loss: 0.0456 - acc: 0.9940\n",
            "5667/5667 [==============================] - 9s 2ms/step\n"
          ],
          "name": "stdout"
        },
        {
          "output_type": "display_data",
          "data": {
            "image/png": "[encoded data removed]",
            "text/plain": [
              "<Figure size 432x288 with 2 Axes>"
            ]
          },
          "metadata": {
            "tags": []
          }
        },
        {
          "output_type": "stream",
          "text": [
            "Epoch 1/15\n",
            "11334/11334 [==============================] - 40s 4ms/step - loss: 0.3834 - acc: 0.8561\n",
            "Epoch 2/15\n",
            "11334/11334 [==============================] - 39s 3ms/step - loss: 0.3206 - acc: 0.8644\n",
            "Epoch 3/15\n",
            "11334/11334 [==============================] - 39s 3ms/step - loss: 0.2883 - acc: 0.8758\n",
            "Epoch 4/15\n",
            "11334/11334 [==============================] - 39s 3ms/step - loss: 0.2624 - acc: 0.8874\n",
            "Epoch 5/15\n",
            "11334/11334 [==============================] - 39s 3ms/step - loss: 0.2368 - acc: 0.9012\n",
            "Epoch 6/15\n",
            "11334/11334 [==============================] - 39s 3ms/step - loss: 0.2115 - acc: 0.9139\n",
            "Epoch 7/15\n",
            "11334/11334 [==============================] - 39s 3ms/step - loss: 0.1895 - acc: 0.9261\n",
            "Epoch 8/15\n",
            "11334/11334 [==============================] - 39s 3ms/step - loss: 0.1692 - acc: 0.9386\n",
            "Epoch 9/15\n",
            "11334/11334 [==============================] - 39s 3ms/step - loss: 0.1483 - acc: 0.9472\n",
            "Epoch 10/15\n",
            "11334/11334 [==============================] - 39s 3ms/step - loss: 0.1253 - acc: 0.9623\n",
            "Epoch 11/15\n",
            "11334/11334 [==============================] - 39s 3ms/step - loss: 0.1054 - acc: 0.9703\n",
            "Epoch 12/15\n",
            "11334/11334 [==============================] - 39s 3ms/step - loss: 0.0904 - acc: 0.9771\n",
            "Epoch 13/15\n",
            "11334/11334 [==============================] - 39s 3ms/step - loss: 0.0733 - acc: 0.9843\n",
            "Epoch 14/15\n",
            "11334/11334 [==============================] - 39s 3ms/step - loss: 0.0593 - acc: 0.9893\n",
            "Epoch 15/15\n",
            "11334/11334 [==============================] - 39s 3ms/step - loss: 0.0470 - acc: 0.9932\n",
            "5666/5666 [==============================] - 9s 2ms/step\n"
          ],
          "name": "stdout"
        },
        {
          "output_type": "display_data",
          "data": {
            "image/png": "[encoded data removed]",
            "text/plain": [
              "<Figure size 432x288 with 2 Axes>"
            ]
          },
          "metadata": {
            "tags": []
          }
        },
        {
          "output_type": "stream",
          "text": [
            "[[0.4300842189601601, 0.8424210340568202], [0.4375139688696625, 0.8533615669719079], [0.45254167503070125, 0.8572184962936816]]\n"
          ],
          "name": "stdout"
        }
      ]
    }
  ]
}